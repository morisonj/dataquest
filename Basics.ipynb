{
 "cells": [
  {
   "cell_type": "code",
   "execution_count": 1,
   "metadata": {},
   "outputs": [
    {
     "name": "stdout",
     "output_type": "stream",
     "text": [
      "[['', 'year', 'month', 'intent', 'police', 'sex', 'age', 'race', 'hispanic', 'place', 'education'], ['1', '2012', '01', 'Suicide', '0', 'M', '34', 'Asian/Pacific Islander', '100', 'Home', '4'], ['2', '2012', '01', 'Suicide', '0', 'F', '21', 'White', '100', 'Street', '3'], ['3', '2012', '01', 'Suicide', '0', 'M', '60', 'White', '100', 'Other specified', '4'], ['4', '2012', '02', 'Suicide', '0', 'M', '64', 'White', '100', 'Home', '4']]\n"
     ]
    }
   ],
   "source": [
    "import csv\n",
    "f = open(\"guns.csv\", \"r\")\n",
    "data = list(csv.reader(f))\n",
    "print(data[:5])"
   ]
  },
  {
   "cell_type": "code",
   "execution_count": 2,
   "metadata": {},
   "outputs": [
    {
     "name": "stdout",
     "output_type": "stream",
     "text": [
      "['', 'year', 'month', 'intent', 'police', 'sex', 'age', 'race', 'hispanic', 'place', 'education']\n",
      "[['1', '2012', '01', 'Suicide', '0', 'M', '34', 'Asian/Pacific Islander', '100', 'Home', '4'], ['2', '2012', '01', 'Suicide', '0', 'F', '21', 'White', '100', 'Street', '3'], ['3', '2012', '01', 'Suicide', '0', 'M', '60', 'White', '100', 'Other specified', '4'], ['4', '2012', '02', 'Suicide', '0', 'M', '64', 'White', '100', 'Home', '4'], ['5', '2012', '02', 'Suicide', '0', 'M', '31', 'White', '100', 'Other specified', '2']]\n"
     ]
    }
   ],
   "source": [
    "headers = data[0]\n",
    "data = data[1:]\n",
    "print(headers)\n",
    "print(data[:5])"
   ]
  },
  {
   "cell_type": "code",
   "execution_count": 3,
   "metadata": {},
   "outputs": [
    {
     "name": "stdout",
     "output_type": "stream",
     "text": [
      "{'2012': 33563, '2013': 33636, '2014': 33599}\n"
     ]
    }
   ],
   "source": [
    "years = []\n",
    "for row in data:\n",
    "    #obtain the year the gun death occurred\n",
    "    years.append(row[1])\n",
    "year_counts = {}\n",
    "for i in years:\n",
    "    if i in year_counts:\n",
    "        year_counts[i] += 1\n",
    "    else:\n",
    "        year_counts[i] = 1\n",
    "print(year_counts)\n",
    "    "
   ]
  },
  {
   "cell_type": "code",
   "execution_count": 4,
   "metadata": {},
   "outputs": [
    {
     "name": "stdout",
     "output_type": "stream",
     "text": [
      "January 2012\n",
      "January 2012\n",
      "January 2012\n",
      "February 2012\n",
      "February 2012\n"
     ]
    }
   ],
   "source": [
    "import datetime\n",
    "dates = []\n",
    "for row in data:\n",
    "    date = datetime.datetime(year = int(row[1]), month = int(row[2]), day = 1)\n",
    "    dates.append(date)\n",
    "for i in dates[:5]:\n",
    "    print(i.strftime(\"%B %Y\"))"
   ]
  },
  {
   "cell_type": "code",
   "execution_count": 5,
   "metadata": {},
   "outputs": [
    {
     "name": "stdout",
     "output_type": "stream",
     "text": [
      "January 2012\n",
      "February 2012\n",
      "March 2012\n",
      "April 2012\n",
      "May 2012\n",
      "June 2012\n",
      "July 2012\n",
      "August 2012\n",
      "September 2012\n",
      "October 2012\n",
      "November 2012\n",
      "December 2012\n",
      "January 2013\n",
      "February 2013\n",
      "March 2013\n",
      "April 2013\n",
      "May 2013\n",
      "June 2013\n",
      "July 2013\n",
      "August 2013\n",
      "September 2013\n",
      "October 2013\n",
      "November 2013\n",
      "December 2013\n",
      "January 2014\n",
      "February 2014\n",
      "March 2014\n",
      "April 2014\n",
      "May 2014\n",
      "June 2014\n",
      "July 2014\n",
      "August 2014\n",
      "September 2014\n",
      "October 2014\n",
      "November 2014\n",
      "December 2014\n"
     ]
    }
   ],
   "source": [
    "date_counts = {}\n",
    "for d in dates:\n",
    "    if d in date_counts:\n",
    "        date_counts[d] += 1\n",
    "    else:\n",
    "        date_counts[d] = 1\n",
    "for i in date_counts:\n",
    "    print(i.strftime(\"%B %Y\"))"
   ]
  },
  {
   "cell_type": "code",
   "execution_count": 18,
   "metadata": {},
   "outputs": [
    {
     "name": "stdout",
     "output_type": "stream",
     "text": [
      "M 86349\n",
      "F 14449\n",
      "\n",
      "Asian/Pacific Islander\n",
      "White\n",
      "Native American/Native Alaskan\n",
      "Black\n",
      "Hispanic\n"
     ]
    }
   ],
   "source": [
    "genders = []\n",
    "for row in data:\n",
    "    genders.append(row[5])\n",
    "    \n",
    "races = []\n",
    "for row in data:\n",
    "    races.append(row[7])\n",
    "\n",
    "sex_counts = {}\n",
    "for d in genders:\n",
    "    if d in sex_counts:\n",
    "        sex_counts[d] += 1\n",
    "    else:\n",
    "        sex_counts[d] = 1\n",
    "for i in sex_counts:\n",
    "    print(i, sex_counts[i])\n",
    "    \n",
    "print()\n",
    "    \n",
    "race_counts = {}\n",
    "for d in races:\n",
    "    if d in race_counts:\n",
    "        race_counts[d] += 1\n",
    "    else:\n",
    "        race_counts[d] = 1\n",
    "for i in race_counts:\n",
    "    print(i)"
   ]
  },
  {
   "cell_type": "code",
   "execution_count": 7,
   "metadata": {},
   "outputs": [
    {
     "name": "stdout",
     "output_type": "stream",
     "text": [
      "[['Id', 'Year', 'Id', 'Sex', 'Id', 'Hispanic Origin', 'Id', 'Id2', 'Geography', 'Total', 'Race Alone - White', 'Race Alone - Hispanic', 'Race Alone - Black or African American', 'Race Alone - American Indian and Alaska Native', 'Race Alone - Asian', 'Race Alone - Native Hawaiian and Other Pacific Islander', 'Two or More Races'], ['cen42010', 'April 1, 2010 Census', 'totsex', 'Both Sexes', 'tothisp', 'Total', '0100000US', '', 'United States', '308745538', '197318956', '44618105', '40250635', '3739506', '15159516', '674625', '6984195']]\n"
     ]
    }
   ],
   "source": [
    "f = open(\"census.csv\", \"r\")\n",
    "census = list(csv.reader(f))\n",
    "print(census)\n"
   ]
  },
  {
   "cell_type": "code",
   "execution_count": 8,
   "metadata": {},
   "outputs": [
    {
     "name": "stdout",
     "output_type": "stream",
     "text": [
      "{'Asian/Pacific Islander': 8.746980714890115e-06, 'White': 33.56849303419181, 'Native American/Native Alaskan': 24.521955573811088, 'Black': 57.8773477735196, 'Hispanic': 20.220491210910907}\n"
     ]
    }
   ],
   "source": [
    "census_header = census[0]\n",
    "census_data = census[1]\n",
    "\n",
    "mapping = {}\n",
    "mapping[\"Asian/Pacific Islander\"] = census_data[14] + census_data[15]\n",
    "mapping[\"Black\"] = census_data[12]\n",
    "mapping[\"Native American/Native Alaskan\"] = census_data[13]\n",
    "mapping[\"Hispanic\"] = census_data[11]\n",
    "mapping[\"White\"] = census_data[10]\n",
    "\n",
    "race_per_hundredk = {}\n",
    "for r in race_counts:\n",
    "    race_per_hundredk[r] = (race_counts[r]/(int(mapping[r])))*100000 \n",
    "print(race_per_hundredk)\n"
   ]
  },
  {
   "cell_type": "code",
   "execution_count": 10,
   "metadata": {},
   "outputs": [
    {
     "name": "stdout",
     "output_type": "stream",
     "text": [
      "{'White': 4.6356417981453335, 'Asian/Pacific Islander': 3.687452654316421e-06, 'Black': 48.471284987180944, 'Native American/Native Alaskan': 8.717729026240365, 'Hispanic': 12.627161104219914}\n"
     ]
    }
   ],
   "source": [
    "intents = []\n",
    "for row in data:\n",
    "    intents.append(row[3])\n",
    "races = []\n",
    "for row in data:\n",
    "    races.append(row[7])\n",
    "    \n",
    "homicide_race_counts = {}\n",
    "for i, race in enumerate(races):\n",
    "    ifhom = intents[i]\n",
    "    if ifhom == \"Homicide\":\n",
    "        if race in homicide_race_counts:\n",
    "            homicide_race_counts[race] += 1\n",
    "        else:\n",
    "            homicide_race_counts[race] = 1\n",
    "\n",
    "for r in homicide_race_counts:\n",
    "    homicide_race_counts[r] = (homicide_race_counts[r]/(int(mapping[r])))*100000\n",
    "print(homicide_race_counts)"
   ]
  },
  {
   "cell_type": "code",
   "execution_count": 17,
   "metadata": {},
   "outputs": [
    {
     "name": "stdout",
     "output_type": "stream",
     "text": [
      "Average Gun Deaths in the USA per month from 2012-2014\n",
      "01  :  8273 deaths\n",
      "02  :  7093 deaths\n",
      "03  :  8289 deaths\n",
      "04  :  8455 deaths\n",
      "05  :  8669 deaths\n",
      "06  :  8677 deaths\n",
      "07  :  8989 deaths\n",
      "08  :  8783 deaths\n",
      "09  :  8508 deaths\n",
      "10  :  8406 deaths\n",
      "11  :  8243 deaths\n",
      "12  :  8413 deaths\n"
     ]
    }
   ],
   "source": [
    "#month and homicide rate\n",
    "months = []\n",
    "for row in data:\n",
    "    months.append(row[2])\n",
    "months_count = {}\n",
    "for m in months:\n",
    "    if m in months_count:\n",
    "        months_count[m] += 1\n",
    "    else:\n",
    "        months_count[m] = 1\n",
    "\n",
    "print(\"Average Gun Deaths in the USA per month from 2012-2014\")\n",
    "for m in months_count:\n",
    "    print(m, \" : \", months_count[m], \"deaths\")"
   ]
  },
  {
   "cell_type": "code",
   "execution_count": 22,
   "metadata": {},
   "outputs": [
    {
     "name": "stdout",
     "output_type": "stream",
     "text": [
      "Gun deaths over 3-year span according to location\n",
      "Home  :  60486 deaths\n",
      "Street  :  11151 deaths\n",
      "Other specified  :  13751 deaths\n",
      "NA  :  1384 deaths\n",
      "Other unspecified  :  8867 deaths\n",
      "Trade/service area  :  3439 deaths\n",
      "Farm  :  470 deaths\n",
      "Industrial/construction  :  248 deaths\n",
      "School/instiution  :  671 deaths\n",
      "Sports  :  128 deaths\n",
      "Residential institution  :  203 deaths\n"
     ]
    }
   ],
   "source": [
    "places = []\n",
    "for row in data:\n",
    "    places.append(row[9])\n",
    "places_count = {}\n",
    "for p in places:\n",
    "    if p in places_count:\n",
    "        places_count[p] += 1\n",
    "    else:\n",
    "        places_count[p] = 1\n",
    "        \n",
    "print(\"Gun deaths over 3-year span according to location\")\n",
    "for p in places_count:\n",
    "    print(p, \" : \", places_count[p], \"deaths\")"
   ]
  },
  {
   "cell_type": "code",
   "execution_count": 27,
   "metadata": {},
   "outputs": [
    {
     "name": "stdout",
     "output_type": "stream",
     "text": [
      "Gun deaths by education level\n",
      "At least graduated from College :  12946  deaths\n",
      "Some College :  21680  deaths\n",
      "Graduated from High School or equivalent :  42927  deaths\n",
      "Less than High School :  21823  deaths\n",
      "Not available :  1369  deaths\n"
     ]
    }
   ],
   "source": [
    "edu = []\n",
    "for row in data:\n",
    "    edu.append(row[10])\n",
    "edu_count = {}\n",
    "for e in edu:\n",
    "    if e in edu_count:\n",
    "        edu_count[e] += 1\n",
    "    else:\n",
    "        edu_count[e] = 1\n",
    "print(\"Gun deaths by education level\")\n",
    "for e in edu_count:\n",
    "    if e == \"1\":\n",
    "        print(\"Less than High School : \", edu_count[e], \" deaths\")\n",
    "    elif e == \"2\":\n",
    "        print(\"Graduated from High School or equivalent : \", edu_count[e], \" deaths\")\n",
    "    elif e == \"3\":\n",
    "        print(\"Some College : \", edu_count[e], \" deaths\")\n",
    "    elif e == \"4\":\n",
    "        print(\"At least graduated from College : \", edu_count[e], \" deaths\")\n",
    "    elif e == \"5\":\n",
    "        print(\"Not available : \", edu_count[e], \" deaths\")"
   ]
  },
  {
   "cell_type": "code",
   "execution_count": null,
   "metadata": {},
   "outputs": [],
   "source": []
  }
 ],
 "metadata": {
  "kernelspec": {
   "display_name": "Python 3",
   "language": "python",
   "name": "python3"
  },
  "language_info": {
   "codemirror_mode": {
    "name": "ipython",
    "version": 3
   },
   "file_extension": ".py",
   "mimetype": "text/x-python",
   "name": "python",
   "nbconvert_exporter": "python",
   "pygments_lexer": "ipython3",
   "version": "3.6.5"
  }
 },
 "nbformat": 4,
 "nbformat_minor": 1
}
